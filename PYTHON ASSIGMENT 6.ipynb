{
 "cells": [
  {
   "cell_type": "code",
   "execution_count": 1,
   "id": "836ea84d",
   "metadata": {},
   "outputs": [],
   "source": [
    "#Q1. What are escape charaters, and how do you use them?\n",
    "\n",
    "#Ans1. The backslash\"\\\" is a special  characters called \"escape\" character.To escape a single character or symbol we use the \n",
    "#       escape character."
   ]
  },
  {
   "cell_type": "code",
   "execution_count": 2,
   "id": "752e3f39",
   "metadata": {},
   "outputs": [],
   "source": [
    "#Q2. What do the escape character n and t stand for?\n",
    "\n",
    "#Ans2. \\n stands for new line character\n",
    "#      \\t stands for horizontall tab"
   ]
  },
  {
   "cell_type": "code",
   "execution_count": 4,
   "id": "77b9e8f4",
   "metadata": {},
   "outputs": [],
   "source": [
    "#Q3. What is the way to include backslash character in a string?\n",
    "\n",
    "#Ans3. In a normal string just add a backslash in the end before pressing Enter to continue typing next on the next line.For instance,\n",
    "\n",
    "Text='Hello\\\n",
    "world'"
   ]
  },
  {
   "cell_type": "code",
   "execution_count": 5,
   "id": "61387bb5",
   "metadata": {},
   "outputs": [
    {
     "data": {
      "text/plain": [
       "'Helloworld'"
      ]
     },
     "execution_count": 5,
     "metadata": {},
     "output_type": "execute_result"
    }
   ],
   "source": [
    "Text"
   ]
  },
  {
   "cell_type": "code",
   "execution_count": 6,
   "id": "88fb8db1",
   "metadata": {},
   "outputs": [],
   "source": [
    "#Q4. The string \"How!'s Moving Castle\" is a correct value. Why isn't the single quote character  inn the word Hoew!'s not escaped a problem?'\n",
    "\n",
    "#Ans4. Because we have used double quotes to mark the begining and end of the string"
   ]
  },
  {
   "cell_type": "code",
   "execution_count": 7,
   "id": "5044413f",
   "metadata": {},
   "outputs": [],
   "source": [
    "#Q5. How do you write a string of newlines if you don't want to use the n characters?\n",
    "\n",
    "#Ans5. Multiline strings allow  us  to use newlin"
   ]
  },
  {
   "cell_type": "code",
   "execution_count": 8,
   "id": "86454c13",
   "metadata": {},
   "outputs": [],
   "source": [
    "#Q6. What are the values of the given expressions?\n",
    "#    'Hello , world!'\n",
    "#    'Hello,world!'[0:5]\n",
    "#    'Hello,world!'[::5]\n",
    "#    'Hello,world!'[3::]\n",
    "\n",
    "#Ans6. The expressions evaluates the following"
   ]
  },
  {
   "cell_type": "code",
   "execution_count": 9,
   "id": "7646351e",
   "metadata": {},
   "outputs": [
    {
     "data": {
      "text/plain": [
       "'Hello'"
      ]
     },
     "execution_count": 9,
     "metadata": {},
     "output_type": "execute_result"
    }
   ],
   "source": [
    "'Hello,world!'[0:5]"
   ]
  },
  {
   "cell_type": "code",
   "execution_count": 10,
   "id": "f13c805b",
   "metadata": {},
   "outputs": [
    {
     "data": {
      "text/plain": [
       "'H,d'"
      ]
     },
     "execution_count": 10,
     "metadata": {},
     "output_type": "execute_result"
    }
   ],
   "source": [
    "'Hello,world!'[::5]"
   ]
  },
  {
   "cell_type": "code",
   "execution_count": 11,
   "id": "524e52d4",
   "metadata": {},
   "outputs": [
    {
     "data": {
      "text/plain": [
       "'lo,world!'"
      ]
     },
     "execution_count": 11,
     "metadata": {},
     "output_type": "execute_result"
    }
   ],
   "source": [
    "'Hello,world!'[3::]"
   ]
  },
  {
   "cell_type": "code",
   "execution_count": 12,
   "id": "ff9b5be7",
   "metadata": {},
   "outputs": [],
   "source": [
    "#Q7. What  are the values of the following expressions?\n",
    "#    'Hello'.upper()\n",
    "#    'Hello'.upper.isupper()\n",
    "#    'Hello'.upper().lower()\n",
    "\n",
    "# Ans7. The expressions evaluates the following"
   ]
  },
  {
   "cell_type": "code",
   "execution_count": 13,
   "id": "e4e3f7a8",
   "metadata": {},
   "outputs": [
    {
     "data": {
      "text/plain": [
       "'HELLO'"
      ]
     },
     "execution_count": 13,
     "metadata": {},
     "output_type": "execute_result"
    }
   ],
   "source": [
    "'Hello'.upper()"
   ]
  },
  {
   "cell_type": "code",
   "execution_count": 14,
   "id": "5a122edb",
   "metadata": {},
   "outputs": [
    {
     "data": {
      "text/plain": [
       "True"
      ]
     },
     "execution_count": 14,
     "metadata": {},
     "output_type": "execute_result"
    }
   ],
   "source": [
    "'Hello'.upper().isupper()"
   ]
  },
  {
   "cell_type": "code",
   "execution_count": 15,
   "id": "e6462c99",
   "metadata": {},
   "outputs": [
    {
     "data": {
      "text/plain": [
       "'hello'"
      ]
     },
     "execution_count": 15,
     "metadata": {},
     "output_type": "execute_result"
    }
   ],
   "source": [
    "'Hello'.upper().lower()"
   ]
  },
  {
   "cell_type": "code",
   "execution_count": 16,
   "id": "a839aca1",
   "metadata": {},
   "outputs": [],
   "source": [
    "#Q8. What  are the values of the following expressions?\n",
    "#    'Remember,remember,the fifth of July.'.split()\n",
    "#    '-'.join('There can only one.'.split())\n",
    "\n",
    "#Ans8:"
   ]
  },
  {
   "cell_type": "code",
   "execution_count": 17,
   "id": "442a0ed8",
   "metadata": {},
   "outputs": [
    {
     "data": {
      "text/plain": [
       "['Remember,remember,the', 'fifth', 'of', 'July.']"
      ]
     },
     "execution_count": 17,
     "metadata": {},
     "output_type": "execute_result"
    }
   ],
   "source": [
    "'Remember,remember,the fifth of July.'.split()"
   ]
  },
  {
   "cell_type": "code",
   "execution_count": 18,
   "id": "cd2194cb",
   "metadata": {},
   "outputs": [
    {
     "data": {
      "text/plain": [
       "'There-can-only-one.'"
      ]
     },
     "execution_count": 18,
     "metadata": {},
     "output_type": "execute_result"
    }
   ],
   "source": [
    "'-'.join('There can only one.'.split())"
   ]
  },
  {
   "cell_type": "code",
   "execution_count": 19,
   "id": "9e446854",
   "metadata": {},
   "outputs": [],
   "source": [
    "#Q9. What are the methods of right- justifying,left-justifying,and centering a string?\n",
    "\n",
    "#Ans9. The rjust(),ljust(),and center() strings method respectively."
   ]
  },
  {
   "cell_type": "code",
   "execution_count": 20,
   "id": "673abaaa",
   "metadata": {},
   "outputs": [],
   "source": [
    "#Q10. What is the best way to remove whitespace characters from the left and right ends of a string, respectively?\n",
    "\n",
    "#Ans10. The lstrip() and rstrip() methods remove whitespace characters from left  and  right end"
   ]
  },
  {
   "cell_type": "code",
   "execution_count": null,
   "id": "9c8789bd",
   "metadata": {},
   "outputs": [],
   "source": []
  }
 ],
 "metadata": {
  "kernelspec": {
   "display_name": "Python 3 (ipykernel)",
   "language": "python",
   "name": "python3"
  },
  "language_info": {
   "codemirror_mode": {
    "name": "ipython",
    "version": 3
   },
   "file_extension": ".py",
   "mimetype": "text/x-python",
   "name": "python",
   "nbconvert_exporter": "python",
   "pygments_lexer": "ipython3",
   "version": "3.9.12"
  }
 },
 "nbformat": 4,
 "nbformat_minor": 5
}
